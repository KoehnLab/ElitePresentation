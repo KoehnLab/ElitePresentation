{
 "cells": [
  {
   "cell_type": "markdown",
   "id": "77a09e35-b3bf-4299-8f3b-b2d17e44db97",
   "metadata": {},
   "source": [
    "Dies ist ein interaktives \"Jupyter Notebook\". Die Blöcke enthalten Code in der Programmiersprache \"Python\". Wenn Sie in der Leiste oben das Symbol $\\rhd$ drücken, wird der aktuelle Block ausgeführt. "
   ]
  },
  {
   "cell_type": "markdown",
   "id": "1a5b9d55",
   "metadata": {},
   "source": [
    "Zuerst werden nur ein paar Definitionen geladen. Sonst passiert noch nichts.\n",
    "Python-Freaks dürfen auch gerne in die hier referenzierten Dateien schauen."
   ]
  },
  {
   "cell_type": "code",
   "execution_count": null,
   "id": "25eb5e52-96de-4989-be4a-9528fb8c4d18",
   "metadata": {},
   "outputs": [],
   "source": [
    "from backend.interaction import show_molecule_from_file, show_structure_from_file, show_molecule_from_xyz_file"
   ]
  },
  {
   "cell_type": "markdown",
   "id": "2204e2b5-973e-450b-bc71-458316e0269e",
   "metadata": {},
   "source": [
    "Der Befehl in der nachfolgenden Zeile erzeugt ein interaktives Fenster. Nutzen Sie das Dropdown-Menü, um sich das Molekül in verschiedenen Darstellungen anzuschauen. Mit der Maus oder dem Trackpad können Sie das Molekül drehen, zoomen geht mit dem Rad der Maus bzw. mit der Zweifinge-Zoom-Geste auf dem Trackpad. Einfach ausprobieren."
   ]
  },
  {
   "cell_type": "code",
   "execution_count": null,
   "id": "629bf628-34fd-48cf-a990-23f566d3224a",
   "metadata": {},
   "outputs": [],
   "source": [
    "x = show_molecule_from_file(\"salicylic_acid.mol\")"
   ]
  },
  {
   "cell_type": "markdown",
   "id": "c2f4305b-b692-46c0-878f-20fa81e245ac",
   "metadata": {},
   "source": [
    "Das Molekül ist eine organische Säure, manche nutzen sie als Peeling. Der Essigsäureester ist ein bekanntes Schmerzmittel."
   ]
  },
  {
   "cell_type": "markdown",
   "id": "5b1e6f2d-86be-4200-a337-8b7b108d2150",
   "metadata": {},
   "source": [
    "Als etwas abstraktere chemische Strukturformel sieht das Molekül so aus:"
   ]
  },
  {
   "cell_type": "code",
   "execution_count": null,
   "id": "bd9fbef9-dbe4-474b-9b14-0c2c14e5cd4e",
   "metadata": {},
   "outputs": [],
   "source": [
    "x = show_structure_from_file('salicylic_acid.mol')"
   ]
  },
  {
   "cell_type": "markdown",
   "id": "6f07ab2c-8653-4973-a0ce-06ebbc8fef04",
   "metadata": {},
   "source": [
    "Hier jetzt ein etwas größeres Molekül. Unter den Proteinen unseres Körpers ist es aber eher ein Zwerg: Insulin."
   ]
  },
  {
   "cell_type": "code",
   "execution_count": null,
   "id": "68e9cb57-be37-4141-bdfd-d5663ef21231",
   "metadata": {},
   "outputs": [],
   "source": [
    "x = show_molecule_from_file(\"insulin.pdb\")"
   ]
  },
  {
   "cell_type": "markdown",
   "id": "1fc5541b-ad82-4b77-87d1-45c242503002",
   "metadata": {},
   "source": [
    "Die atomistische Darstellung (\"stick\" oder \"sphere\") ist relativ unübersichtlich. Biochemiker und Molekularbiologen bevorzugen daher die \"cartoon\"-Darstellung, die nur das Rückrad (\"back bone\") des Proteins zeigt. Man erkennt insbesondere gut die Helix-Bereiche."
   ]
  },
  {
   "cell_type": "markdown",
   "id": "d4430def",
   "metadata": {},
   "source": [
    "Ein weiteres Beispiel ist ein DNA Fragment."
   ]
  },
  {
   "cell_type": "code",
   "execution_count": null,
   "id": "3c910a28",
   "metadata": {},
   "outputs": [],
   "source": [
    "x = show_molecule_from_file(\"dna-cgc.pdb\")"
   ]
  },
  {
   "cell_type": "markdown",
   "id": "3a50c4b9",
   "metadata": {},
   "source": [
    "Ein weitverbreiteter Dateityp ist die XYZ Datei.\n",
    "Diese beinhaltet nur das Elementsymbol (zum Beispiel `H`, `C`, oder `O`) und die Position des Atoms.\n",
    "Das bedeutet, dass mögliche Bindungen erst beim Einlesen von einem Algorithmus berechnet werden.\n",
    "Hier ist ein Beispiel für das Laden einer XYZ Datei."
   ]
  },
  {
   "cell_type": "code",
   "execution_count": null,
   "id": "53a96b36",
   "metadata": {},
   "outputs": [],
   "source": [
    "x = show_molecule_from_xyz_file(\"coord18a.xyz\")"
   ]
  }
 ],
 "metadata": {
  "kernelspec": {
   "display_name": "Python 3 (ipykernel)",
   "language": "python",
   "name": "python3"
  },
  "language_info": {
   "codemirror_mode": {
    "name": "ipython",
    "version": 3
   },
   "file_extension": ".py",
   "mimetype": "text/x-python",
   "name": "python",
   "nbconvert_exporter": "python",
   "pygments_lexer": "ipython3",
   "version": "3.11.2"
  }
 },
 "nbformat": 4,
 "nbformat_minor": 5
}
