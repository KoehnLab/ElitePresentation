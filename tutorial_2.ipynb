{
 "cells": [
  {
   "cell_type": "markdown",
   "id": "7f10355f-bb4a-42ed-a8c9-1fee2f8b3f4d",
   "metadata": {},
   "source": [
    "Jetzt wollen wir Moleküle \"bauen\". Ein relativ wichtiges Hilfsmittel auch der Chemoinformatik ist die \"Simplified Molecular Input Line Entry Specification\" (SMILES). "
   ]
  },
  {
   "cell_type": "code",
   "execution_count": null,
   "id": "b9cc1ce3-6e82-4f12-a29d-7c5d7344342c",
   "metadata": {},
   "outputs": [],
   "source": [
    "# Wieder ein paar Definitionen.\n",
    "import stk, stko\n",
    "from backend.interaction import show_molecule_from_smiles"
   ]
  },
  {
   "cell_type": "markdown",
   "id": "d96f324d-e84a-471b-82c3-a544149f897c",
   "metadata": {},
   "source": [
    "Hier kommt unser erster SMILES"
   ]
  },
  {
   "cell_type": "code",
   "execution_count": null,
   "id": "c29bea7d-a57a-407a-b3df-26af5dec2321",
   "metadata": {},
   "outputs": [],
   "source": [
    "smiles = ['CCCCCC','C1CCCCC1','C1COCCC1','c1ccccc1', 'O=C(O)c1ccccc1O']"
   ]
  },
  {
   "cell_type": "markdown",
   "id": "c481e472-674b-4b39-b17d-662f95efffae",
   "metadata": {},
   "source": [
    "Schauen wir uns mal an, was wir gebaut haben:"
   ]
  },
  {
   "cell_type": "code",
   "execution_count": null,
   "id": "de6db269-bab8-4d1c-aa73-79f8e7171081",
   "metadata": {},
   "outputs": [],
   "source": [
    "show_molecule_from_smiles(smiles, show_structure_formula=True)"
   ]
  },
  {
   "cell_type": "markdown",
   "id": "533116ac",
   "metadata": {},
   "source": [
    "Hier können wir nun eigene SMILES testen."
   ]
  },
  {
   "cell_type": "code",
   "execution_count": null,
   "id": "39dd5a6c",
   "metadata": {},
   "outputs": [],
   "source": [
    "show_molecule_from_smiles(smiles = \"\", show_structure_formula=True)"
   ]
  },
  {
   "cell_type": "markdown",
   "id": "51962ab0",
   "metadata": {},
   "source": [
    "Jetzt schreiben wir eines der Moleküle als Datei."
   ]
  },
  {
   "cell_type": "code",
   "execution_count": null,
   "id": "5746b2ed-a273-4beb-a995-04f87bafcc8e",
   "metadata": {},
   "outputs": [],
   "source": [
    "stk_mol = stk.BuildingBlock( smiles[-1] )\n",
    "stk_molo = stko.MMFF().optimize(stk_mol)\n",
    "\n",
    "writer = stk.MolWriter()\n",
    "writer.write(stk_molo,\"sac.mol\")"
   ]
  }
 ],
 "metadata": {
  "kernelspec": {
   "display_name": "Python 3 (ipykernel)",
   "language": "python",
   "name": "python3"
  },
  "language_info": {
   "codemirror_mode": {
    "name": "ipython",
    "version": 3
   },
   "file_extension": ".py",
   "mimetype": "text/x-python",
   "name": "python",
   "nbconvert_exporter": "python",
   "pygments_lexer": "ipython3",
   "version": "3.11.2"
  }
 },
 "nbformat": 4,
 "nbformat_minor": 5
}
