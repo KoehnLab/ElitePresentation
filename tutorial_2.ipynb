{
 "cells": [
  {
   "cell_type": "markdown",
   "id": "7f10355f-bb4a-42ed-a8c9-1fee2f8b3f4d",
   "metadata": {},
   "source": [
    "Jetzt wollen wir Moleküle \"bauen\". Ein relativ wichtiges Hilfsmittel auch der Chemoinformatik ist die \"**S**implified **M**olecular **I**nput **L**ine **E**ntry **S**pecification\" (SMILES). "
   ]
  },
  {
   "cell_type": "code",
   "execution_count": null,
   "id": "b9cc1ce3-6e82-4f12-a29d-7c5d7344342c",
   "metadata": {},
   "outputs": [],
   "source": [
    "# Wieder ein paar Definitionen.\n",
    "import stk, stko\n",
    "from backend.interaction import show_molecule_from_smiles"
   ]
  },
  {
   "cell_type": "markdown",
   "id": "d96f324d-e84a-471b-82c3-a544149f897c",
   "metadata": {},
   "source": [
    "Hier sind unseer erstern SMILES"
   ]
  },
  {
   "cell_type": "code",
   "execution_count": null,
   "id": "c29bea7d-a57a-407a-b3df-26af5dec2321",
   "metadata": {},
   "outputs": [],
   "source": [
    "smiles = ['CCCCCC','C1CCCCC1','C1COCCC1','c1ccccc1', 'O=C(O)c1ccccc1O']"
   ]
  },
  {
   "cell_type": "markdown",
   "id": "c481e472-674b-4b39-b17d-662f95efffae",
   "metadata": {},
   "source": [
    "Schauen wir uns mal an, was wir gebaut haben:"
   ]
  },
  {
   "cell_type": "code",
   "execution_count": null,
   "id": "de6db269-bab8-4d1c-aa73-79f8e7171081",
   "metadata": {},
   "outputs": [],
   "source": [
    "show_molecule_from_smiles(smiles, show_structure_formula=True)"
   ]
  },
  {
   "cell_type": "markdown",
   "id": "a7a5149c",
   "metadata": {},
   "source": [
    "Nun schauen wir uns genauer an wie diese SMILES aufgebaut sind.\n",
    "\n",
    "## Atome und Ladungen\n",
    "SMILES Strukturformeln werden ohne Wasserstoffatome ($H$) eingegeben, wobei gängige SMILES Software die Anzahl der möglichen Bindungen, die Atome haben können, versteht und leere Bindungsstellen entsprechend mit Wasserstoffatomen aufgefüllt werden.\n",
    "Durch das Hinzufügen von eckigen Klammern können allerdings Wasserstoffatome explizit angegeben werden.\n",
    "So kann Wasser in verschiedenen Schreibweisen dargestellt werden: `O`, `[OH2]` oder `[H]O[H]`.\n",
    "Atome welche nicht im Teilsatz der wichtigen Atome für die organische Chemie sind ($B$, $C$, $N$, $O$, $P$, $S$, $F$, $Cl$, $Br$ und $I$) können ebenfalls nur durch die Verwendung von eckigen Klammern zu einem SMILES hinzugefügt werden.\n",
    "Zum Beispiel: `[Au]` (Gold), `[Ti]` (Titan), oder `[Co]` (Kobalt).\n",
    "Zusätzlich können mit Hilfe der eckigen Klammern Ladungen auf Atomen explizit angegeben werden.\n",
    "Die Anzahl der Ladung kann dabei durch wiederholte eingabe des Ladungssymbols (`+` oder `-`) oder eine nachfolgende Zahl eingegeben werden.\n",
    "Beispiele für Atome und Ladungen:\n",
    "- `[Co+++]` oder `[Co+3]` für $Co^{3+}$\n",
    "- `CCC(=O)[O-]` für eine ionisierte Form der Propionsäure\n",
    "\n",
    "\n",
    "## Bindungen\n",
    "Standardmäßig werden zwischen den eingegebenen Atomtypen einfache Bindungen angenommen.\n",
    "Wie in der folgenden Liste zu sehen ist, können diese aber auch explizit definiert werden.\n",
    "Hier die Liste der möglichen Bindungstypen:\n",
    "- \\- Einfachbindung\n",
    "- = Doppelbindung\n",
    "- \\# Dreifachbindung\n",
    "\n",
    "Beispiele für diese Bindungstypen wären:\n",
    "- `CC` oder `C-C` für Ethan ($CH_3CH_3$)\n",
    "- `C=C` für Ethen ($CH_2CH_2$)\n",
    "- `N#N` für Molekularen Stickstoff ($N_2$)\n",
    "\n",
    "Zusätzlich können Strukturen durch hinzufügen eines Punktes (.) unterbrochen werden. Ein einfaches Beispiel wäre `CCCCC.CCCCC` für zwei unabhängige Kohlenstoffketten.\n",
    "\n",
    "## Verweigungen\n",
    "Eine Abzweigung einer Kette kann angegeben werden, indem die Atome des Zweiges in (runde) Klammern gesetzt werden.\n",
    "Der Zweig wird an das Atom vor der Klammer angefügt.\n",
    "Spezielle Bindungstypen können auch als erstes Symbol in der Klammer gesetzt werden.\n",
    "Beispiele für Verzweigungen wären:\n",
    "- `CC(O)C` für Isopropanol\n",
    "- `CC(=O)C` für Aceton\n",
    "\n",
    "## Ringe\n",
    "Durch das Hinzufügen von Zahlen kann der Start und das Ende eines Ringes beschrieben werden.\n",
    "Dabei werden die Zahlen hinter das betroffene Atom angefügt.\n",
    "Beispiele für Ringstrukturen wären:\n",
    "- `C1CCCCC1` für Cyclohexan\n",
    "- `C1OC1CC` für 1,2-Epoxybutan\n",
    "\n",
    "Eine aromatische Bindung, welche immer mindestens einen Ring aufweist, kann durch Verwendung von kleinen Buchstaben gebildet werden.\n",
    "Beispiele für aromatische Ringstrukturen:\n",
    "- `c1ccccc1` für Benzol\n",
    "- `c1cc2ccccc2cc1` für Naphthalin\n",
    "\n",
    "\n",
    "\n"
   ]
  },
  {
   "cell_type": "markdown",
   "id": "533116ac",
   "metadata": {},
   "source": [
    "Nun können wir mit selbst erstellten SMILES experimentieren.\n",
    "Falls eine Fehlermeldung angezeigt wird ist der SIMLES ungültig und ihr habt etwas falsch gemacht.\n",
    "Versucht für jeden zuvor erwähnten Typen ein SMILES zu generieren."
   ]
  },
  {
   "cell_type": "code",
   "execution_count": null,
   "id": "39dd5a6c",
   "metadata": {},
   "outputs": [],
   "source": [
    "show_molecule_from_smiles(smiles = \"\", show_structure_formula=True)"
   ]
  },
  {
   "cell_type": "markdown",
   "id": "51962ab0",
   "metadata": {},
   "source": [
    "Jetzt schreiben wir eines der Moleküle als Datei."
   ]
  },
  {
   "cell_type": "code",
   "execution_count": null,
   "id": "5746b2ed-a273-4beb-a995-04f87bafcc8e",
   "metadata": {},
   "outputs": [],
   "source": [
    "stk_mol = stk.BuildingBlock( smiles[-1] )\n",
    "stk_molo = stko.MMFF().optimize(stk_mol)\n",
    "\n",
    "writer = stk.MolWriter()\n",
    "writer.write(stk_molo,\"sac.mol\")"
   ]
  }
 ],
 "metadata": {
  "kernelspec": {
   "display_name": "Python 3 (ipykernel)",
   "language": "python",
   "name": "python3"
  },
  "language_info": {
   "codemirror_mode": {
    "name": "ipython",
    "version": 3
   },
   "file_extension": ".py",
   "mimetype": "text/x-python",
   "name": "python",
   "nbconvert_exporter": "python",
   "pygments_lexer": "ipython3",
   "version": "3.11.2"
  }
 },
 "nbformat": 4,
 "nbformat_minor": 5
}
