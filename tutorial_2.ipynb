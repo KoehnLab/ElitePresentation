{
 "cells": [
  {
   "cell_type": "markdown",
   "id": "7f10355f-bb4a-42ed-a8c9-1fee2f8b3f4d",
   "metadata": {},
   "source": [
    "Jetzt wollen wir Moleküle \"bauen\". Ein relativ wichtiges Hilfsmittel auch der Chemoinformatik ist die \"Simplified Molecular Input Line Entry Specification\" (SMILES). "
   ]
  },
  {
   "cell_type": "code",
   "execution_count": 21,
   "id": "b9cc1ce3-6e82-4f12-a29d-7c5d7344342c",
   "metadata": {},
   "outputs": [],
   "source": [
    "# Wieder ein paar Definitionen.\n",
    "import stk, stko\n",
    "from interaction import show_molecule"
   ]
  },
  {
   "cell_type": "markdown",
   "id": "d96f324d-e84a-471b-82c3-a544149f897c",
   "metadata": {},
   "source": [
    "Hier kommt unser erster SMILES"
   ]
  },
  {
   "cell_type": "code",
   "execution_count": 2,
   "id": "c29bea7d-a57a-407a-b3df-26af5dec2321",
   "metadata": {},
   "outputs": [],
   "source": [
    "smiles = 'CCCCCC'"
   ]
  },
  {
   "cell_type": "markdown",
   "id": "c481e472-674b-4b39-b17d-662f95efffae",
   "metadata": {},
   "source": [
    "Schauen wir uns mal an, was wir gebaut haben:"
   ]
  },
  {
   "cell_type": "code",
   "execution_count": 4,
   "id": "16a1cbd9-1485-4226-b0ba-88b8f262df1d",
   "metadata": {},
   "outputs": [
    {
     "data": {
      "application/vnd.jupyter.widget-view+json": {
       "model_id": "ea98b7e0d8924969a596afa1dd57d54d",
       "version_major": 2,
       "version_minor": 0
      },
      "text/plain": [
       "interactive(children=(Dropdown(description='style', options=('stick', 'sphere'), value='stick'), Output()), _d…"
      ]
     },
     "metadata": {},
     "output_type": "display_data"
    }
   ],
   "source": [
    "molecule = stk.BuildingBlock(smiles)\n",
    "x = show_molecule(molecule)"
   ]
  },
  {
   "cell_type": "code",
   "execution_count": 5,
   "id": "3e7ca305",
   "metadata": {},
   "outputs": [],
   "source": [
    "smiles2 = 'C1CCCCC1'"
   ]
  },
  {
   "cell_type": "code",
   "execution_count": 7,
   "id": "ad4e466b-ba21-4ce1-944f-480468150cd7",
   "metadata": {},
   "outputs": [
    {
     "data": {
      "application/vnd.jupyter.widget-view+json": {
       "model_id": "ef5386b958fe4fc2bc6902d32e0be6d0",
       "version_major": 2,
       "version_minor": 0
      },
      "text/plain": [
       "interactive(children=(Dropdown(description='style', options=('stick', 'sphere'), value='stick'), Output()), _d…"
      ]
     },
     "metadata": {},
     "output_type": "display_data"
    }
   ],
   "source": [
    "molecule2 = stk.BuildingBlock(smiles2)\n",
    "x = show_molecule(molecule2)"
   ]
  },
  {
   "cell_type": "code",
   "execution_count": 8,
   "id": "3f5770ce-2e28-4f30-88de-1c3b0dc968c2",
   "metadata": {},
   "outputs": [],
   "source": [
    "smiles3 = 'C1COCCC1'"
   ]
  },
  {
   "cell_type": "code",
   "execution_count": 9,
   "id": "714dc321-96c7-4e5e-a3b1-f2dc39b931c9",
   "metadata": {},
   "outputs": [
    {
     "data": {
      "application/vnd.jupyter.widget-view+json": {
       "model_id": "9ae46c6c3daa4d50870e0498d73425d1",
       "version_major": 2,
       "version_minor": 0
      },
      "text/plain": [
       "interactive(children=(Dropdown(description='style', options=('stick', 'sphere'), value='stick'), Output()), _d…"
      ]
     },
     "metadata": {},
     "output_type": "display_data"
    }
   ],
   "source": [
    "molecule3 = stk.BuildingBlock(smiles3)\n",
    "x = show_molecule(molecule3)"
   ]
  },
  {
   "cell_type": "code",
   "execution_count": 12,
   "id": "debefdc9-5b7f-45fd-a62a-09636cd15438",
   "metadata": {},
   "outputs": [],
   "source": [
    "smiles4 = 'c1ccccc1'"
   ]
  },
  {
   "cell_type": "code",
   "execution_count": 13,
   "id": "0e7704ca-23d0-4ba8-a7e4-48d400be1746",
   "metadata": {},
   "outputs": [
    {
     "data": {
      "application/vnd.jupyter.widget-view+json": {
       "model_id": "bacb55b703434b98b658b01bf72e8e29",
       "version_major": 2,
       "version_minor": 0
      },
      "text/plain": [
       "interactive(children=(Dropdown(description='style', options=('stick', 'sphere'), value='stick'), Output()), _d…"
      ]
     },
     "metadata": {},
     "output_type": "display_data"
    }
   ],
   "source": [
    "molecule4 = stk.BuildingBlock(smiles4)\n",
    "x = show_molecule(molecule4)"
   ]
  },
  {
   "cell_type": "code",
   "execution_count": 18,
   "id": "3f15a734-c592-4cd7-ab47-6c43d43b2898",
   "metadata": {},
   "outputs": [],
   "source": [
    "smiles5 = 'O=C(O)c1ccccc1O'"
   ]
  },
  {
   "cell_type": "code",
   "execution_count": 19,
   "id": "334864a5-f64f-414c-9f82-5475ae4acd3b",
   "metadata": {},
   "outputs": [
    {
     "data": {
      "application/vnd.jupyter.widget-view+json": {
       "model_id": "1c17b0d35c1743a195b197bf646dd7c0",
       "version_major": 2,
       "version_minor": 0
      },
      "text/plain": [
       "interactive(children=(Dropdown(description='style', options=('stick', 'sphere'), value='stick'), Output()), _d…"
      ]
     },
     "metadata": {},
     "output_type": "display_data"
    }
   ],
   "source": [
    "molecule5 = stk.BuildingBlock(smiles5)\n",
    "x = show_molecule(molecule5)"
   ]
  },
  {
   "cell_type": "code",
   "execution_count": 22,
   "id": "de6db269-bab8-4d1c-aa73-79f8e7171081",
   "metadata": {},
   "outputs": [
    {
     "data": {
      "application/vnd.jupyter.widget-view+json": {
       "model_id": "7855fae214894602932e2ba4bda4ae8c",
       "version_major": 2,
       "version_minor": 0
      },
      "text/plain": [
       "interactive(children=(Dropdown(description='style', options=('stick', 'sphere'), value='stick'), Output()), _d…"
      ]
     },
     "metadata": {},
     "output_type": "display_data"
    }
   ],
   "source": [
    "molecule5o = stko.MMFF().optimize(molecule5)\n",
    "x = show_molecule(molecule5o)"
   ]
  },
  {
   "cell_type": "code",
   "execution_count": 28,
   "id": "5746b2ed-a273-4beb-a995-04f87bafcc8e",
   "metadata": {},
   "outputs": [],
   "source": [
    "writer = stk.MolWriter()\n",
    "writer.write(molecule5o,\"sac.mol\")\n"
   ]
  },
  {
   "cell_type": "code",
   "execution_count": null,
   "id": "6dff497b-c81d-4e99-a8ef-78f5c63a1b42",
   "metadata": {},
   "outputs": [],
   "source": []
  }
 ],
 "metadata": {
  "kernelspec": {
   "display_name": "Python 3 (ipykernel)",
   "language": "python",
   "name": "python3"
  },
  "language_info": {
   "codemirror_mode": {
    "name": "ipython",
    "version": 3
   },
   "file_extension": ".py",
   "mimetype": "text/x-python",
   "name": "python",
   "nbconvert_exporter": "python",
   "pygments_lexer": "ipython3",
   "version": "3.9.18"
  }
 },
 "nbformat": 4,
 "nbformat_minor": 5
}
