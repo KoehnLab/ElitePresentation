{
 "cells": [
  {
   "cell_type": "code",
   "execution_count": null,
   "id": "488558f2-c4ab-4694-aa30-62c09755e1b5",
   "metadata": {},
   "outputs": [],
   "source": [
    "import sys\n",
    "sys.path.append('..')\n",
    "import stk, stko\n",
    "from backend.interaction import show_molecule\n",
    "from backend.visualize_trajectory import TrajectoryVisualizer\n",
    "from backend.calculate_trajectory import TrajectoryCalculator"
   ]
  },
  {
   "cell_type": "code",
   "execution_count": null,
   "id": "c29bea7d-a57a-407a-b3df-26af5dec2321",
   "metadata": {},
   "outputs": [],
   "source": [
    "smiles = 'O=C(O)c1ccccc1O'"
   ]
  },
  {
   "cell_type": "code",
   "execution_count": null,
   "id": "b3737a92-2574-4d9b-9051-33518f0f01d3",
   "metadata": {},
   "outputs": [],
   "source": [
    "acid = stk.BuildingBlock( smiles, [stk.CarboxylicAcidFactory()] )\n",
    "x = show_molecule( acid )\n",
    "stk.XyzWriter().write( acid, '../data/acid.xyz' )"
   ]
  },
  {
   "cell_type": "code",
   "execution_count": null,
   "id": "3e7ca305",
   "metadata": {},
   "outputs": [],
   "source": [
    "# Don't compute the molecule trajectory from optimization.\n",
    "# This uses a precomputed trajectory file for the molecule instead.\n",
    "# If you want to run the optimization again, set this to true; \n",
    "# Running the optimization will take some time and the trajectory can not be\n",
    "# visualized before the operation has finished.\n",
    "recomputeOptimization = False"
   ]
  },
  {
   "cell_type": "code",
   "execution_count": null,
   "id": "ad4e466b-ba21-4ce1-944f-480468150cd7",
   "metadata": {},
   "outputs": [],
   "source": [
    "if(recomputeOptimization):\n",
    "    tc = TrajectoryCalculator('../data/acid.xyz')\n",
    "    tc.run_calculation()"
   ]
  },
  {
   "cell_type": "code",
   "execution_count": null,
   "id": "3f5770ce-2e28-4f30-88de-1c3b0dc968c2",
   "metadata": {},
   "outputs": [],
   "source": [
    "show_trajectory = TrajectoryVisualizer('./trajectory.traj')\n",
    "show_trajectory.show_trajectory()"
   ]
  }
 ],
 "metadata": {
  "kernelspec": {
   "display_name": "Python 3",
   "language": "python",
   "name": "python3"
  },
  "language_info": {
   "codemirror_mode": {
    "name": "ipython",
    "version": 3
   },
   "file_extension": ".py",
   "mimetype": "text/x-python",
   "name": "python",
   "nbconvert_exporter": "python",
   "pygments_lexer": "ipython3",
   "version": "3.10.1"
  }
 },
 "nbformat": 4,
 "nbformat_minor": 5
}
