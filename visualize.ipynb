{
 "cells": [
  {
   "cell_type": "code",
   "execution_count": 1,
   "id": "e32280a9-cb4c-419d-bbcd-1d5b53fa321f",
   "metadata": {},
   "outputs": [],
   "source": [
    "from molecule import *\n",
    "%matplotlib inline\n",
    "Molecule.set_cyan_colorscheme(True)"
   ]
  },
  {
   "cell_type": "code",
   "execution_count": 2,
   "id": "310b3834-ab66-45b3-a97b-b2167624bcc5",
   "metadata": {},
   "outputs": [],
   "source": [
    "smiles = 'O=C(O)c1ccccc1O'"
   ]
  },
  {
   "cell_type": "code",
   "execution_count": null,
   "id": "cb72a0cd-0462-41d6-a234-ce4a40e79b92",
   "metadata": {},
   "outputs": [],
   "source": [
    "mol = stk.BuildingBlock( smiles, [ stk.CarboxylicAcidFactory() ] )\n",
    "show_stk_mol( mol )"
   ]
  },
  {
   "cell_type": "code",
   "execution_count": null,
   "id": "e6da991a-0bb4-4e12-93ef-f0d3b6c0a79e",
   "metadata": {},
   "outputs": [],
   "source": [
    "mol = stko.MMFF().optimize( mol )\n",
    "show_stk_mol( mol )"
   ]
  },
  {
   "cell_type": "code",
   "execution_count": null,
   "id": "58a83adc-af83-4cc7-9448-b65a77ed6201",
   "metadata": {},
   "outputs": [],
   "source": [
    "smiles_ = 'OCC'\n",
    "mol_ = stk.BuildingBlock( smiles = smiles_ , functional_groups = [ stk.AlcoholFactory() ])\n",
    "mol_ = stko.MMFF().optimize( mol_ )\n",
    "show_stk_mol( mol_ )"
   ]
  },
  {
   "cell_type": "code",
   "execution_count": null,
   "id": "147572b5-51ea-48aa-b3c2-ebc2ce6a0229",
   "metadata": {},
   "outputs": [],
   "source": [
    "condensate = stk.ConstructedMolecule(\n",
    "    topology_graph=stk.polymer.Linear(\n",
    "        building_blocks=[mol, mol_],\n",
    "        repeating_unit='AB',\n",
    "        num_repeating_units=1,\n",
    "    ),\n",
    ")\n",
    "\n",
    "show_stk_mol( condensate )"
   ]
  },
  {
   "cell_type": "code",
   "execution_count": null,
   "id": "a6ef98c0-50f6-4234-9958-8315b0fdf269",
   "metadata": {},
   "outputs": [],
   "source": [
    "condensate = stko.MMFF().optimize( condensate )\n",
    "#stk.XyzWriter.write( condensate, 'condensate.xyz' )\n",
    "show_stk_mol( condensate )"
   ]
  },
  {
   "cell_type": "code",
   "execution_count": null,
   "id": "dcc0a7fc-0b2b-49ac-87ad-c372ab95b630",
   "metadata": {},
   "outputs": [],
   "source": [
    "condensate = condensate.to_rdkit_mol()\n",
    "condensate = Chem.RemoveHs( condensate )\n",
    "AllChem.Compute2DCoords( condensate )\n",
    "condensate"
   ]
  },
  {
   "cell_type": "code",
   "execution_count": null,
   "id": "495415b3-a2dd-4e45-8d86-2241aa52d672",
   "metadata": {},
   "outputs": [],
   "source": [
    "IPythonConsole.drawOptions.useBWAtomPalette()\n",
    "condensate"
   ]
  },
  {
   "cell_type": "code",
   "execution_count": null,
   "id": "4953fc2d-2fd9-4683-9053-48cee59c2509",
   "metadata": {},
   "outputs": [],
   "source": [
    "mol = Chem.RemoveHs( mol.to_rdkit_mol() )\n",
    "mol_ = Chem.RemoveHs( mol_.to_rdkit_mol() )\n",
    "for instance in [ mol, mol_ ]: AllChem.Compute2DCoords( instance )\n",
    "mols = [ mol_, mol, condensate ]\n",
    "Draw.MolsToGridImage( mols )"
   ]
  }
 ],
 "metadata": {
  "kernelspec": {
   "display_name": "base-conda-kernel",
   "language": "python",
   "name": "base-conda-kernel"
  },
  "language_info": {
   "codemirror_mode": {
    "name": "ipython",
    "version": 3
   },
   "file_extension": ".py",
   "mimetype": "text/x-python",
   "name": "python",
   "nbconvert_exporter": "python",
   "pygments_lexer": "ipython3",
   "version": "3.10.12"
  }
 },
 "nbformat": 4,
 "nbformat_minor": 5
}
