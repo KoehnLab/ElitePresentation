{
 "cells": [
  {
   "cell_type": "code",
   "execution_count": 1,
   "id": "e32280a9-cb4c-419d-bbcd-1d5b53fa321f",
   "metadata": {},
   "outputs": [],
   "source": [
    "from interaction import show_molecule\n",
    "import stk, stko\n",
    "from rdkit import Chem\n",
    "from rdkit.Chem import AllChem\n",
    "from rdkit.Chem.Draw import IPythonConsole\n",
    "%matplotlib inline"
   ]
  },
  {
   "cell_type": "code",
   "execution_count": 2,
   "id": "310b3834-ab66-45b3-a97b-b2167624bcc5",
   "metadata": {},
   "outputs": [],
   "source": [
    "smiles = 'O=C(O)c1ccccc1O'"
   ]
  },
  {
   "cell_type": "code",
   "execution_count": 3,
   "id": "cb72a0cd-0462-41d6-a234-ce4a40e79b92",
   "metadata": {},
   "outputs": [
    {
     "data": {
      "application/vnd.jupyter.widget-view+json": {
       "model_id": "f6cbbf8393264322a30c34ab44907be3",
       "version_major": 2,
       "version_minor": 0
      },
      "text/plain": [
       "interactive(children=(Dropdown(description='style', options=('stick', 'sphere'), value='stick'), Output()), _d…"
      ]
     },
     "metadata": {},
     "output_type": "display_data"
    },
    {
     "data": {
      "text/plain": [
       "<function interaction.draw_mol(p, style='stick')>"
      ]
     },
     "execution_count": 3,
     "metadata": {},
     "output_type": "execute_result"
    }
   ],
   "source": [
    "mol = stk.BuildingBlock( smiles, [ stk.CarboxylicAcidFactory() ] )\n",
    "show_molecule( mol )"
   ]
  },
  {
   "cell_type": "code",
   "execution_count": 4,
   "id": "e6da991a-0bb4-4e12-93ef-f0d3b6c0a79e",
   "metadata": {},
   "outputs": [
    {
     "data": {
      "application/vnd.jupyter.widget-view+json": {
       "model_id": "bf95e96f5212478f99facba176b5d210",
       "version_major": 2,
       "version_minor": 0
      },
      "text/plain": [
       "interactive(children=(Dropdown(description='style', options=('stick', 'sphere'), value='stick'), Output()), _d…"
      ]
     },
     "metadata": {},
     "output_type": "display_data"
    },
    {
     "data": {
      "text/plain": [
       "<function interaction.draw_mol(p, style='stick')>"
      ]
     },
     "execution_count": 4,
     "metadata": {},
     "output_type": "execute_result"
    }
   ],
   "source": [
    "mol = stko.MMFF().optimize( mol )\n",
    "show_molecule( mol )"
   ]
  },
  {
   "cell_type": "code",
   "execution_count": 5,
   "id": "58a83adc-af83-4cc7-9448-b65a77ed6201",
   "metadata": {},
   "outputs": [
    {
     "data": {
      "application/vnd.jupyter.widget-view+json": {
       "model_id": "c658b832636e4c25969ef10c5ef40894",
       "version_major": 2,
       "version_minor": 0
      },
      "text/plain": [
       "interactive(children=(Dropdown(description='style', options=('stick', 'sphere'), value='stick'), Output()), _d…"
      ]
     },
     "metadata": {},
     "output_type": "display_data"
    },
    {
     "data": {
      "text/plain": [
       "<function interaction.draw_mol(p, style='stick')>"
      ]
     },
     "execution_count": 5,
     "metadata": {},
     "output_type": "execute_result"
    }
   ],
   "source": [
    "smiles_ = 'OCC'\n",
    "mol_ = stk.BuildingBlock( smiles = smiles_ , functional_groups = [ stk.AlcoholFactory() ])\n",
    "mol_ = stko.MMFF().optimize( mol_ )\n",
    "show_molecule( mol_ )"
   ]
  },
  {
   "cell_type": "code",
   "execution_count": 6,
   "id": "147572b5-51ea-48aa-b3c2-ebc2ce6a0229",
   "metadata": {},
   "outputs": [
    {
     "data": {
      "application/vnd.jupyter.widget-view+json": {
       "model_id": "dc5f8fb82f934318abf757f53f6f57e5",
       "version_major": 2,
       "version_minor": 0
      },
      "text/plain": [
       "interactive(children=(Dropdown(description='style', options=('stick', 'sphere'), value='stick'), Output()), _d…"
      ]
     },
     "metadata": {},
     "output_type": "display_data"
    },
    {
     "data": {
      "text/plain": [
       "<function interaction.draw_mol(p, style='stick')>"
      ]
     },
     "execution_count": 6,
     "metadata": {},
     "output_type": "execute_result"
    }
   ],
   "source": [
    "condensate = stk.ConstructedMolecule(\n",
    "    topology_graph=stk.polymer.Linear(\n",
    "        building_blocks=[mol, mol_],\n",
    "        repeating_unit='AB',\n",
    "        num_repeating_units=1,\n",
    "    ),\n",
    ")\n",
    "\n",
    "show_molecule( condensate )"
   ]
  },
  {
   "cell_type": "code",
   "execution_count": 7,
   "id": "a6ef98c0-50f6-4234-9958-8315b0fdf269",
   "metadata": {},
   "outputs": [
    {
     "data": {
      "application/vnd.jupyter.widget-view+json": {
       "model_id": "5e3718af294b4dfaa72919418f56441a",
       "version_major": 2,
       "version_minor": 0
      },
      "text/plain": [
       "interactive(children=(Dropdown(description='style', options=('stick', 'sphere'), value='stick'), Output()), _d…"
      ]
     },
     "metadata": {},
     "output_type": "display_data"
    },
    {
     "data": {
      "text/plain": [
       "<function interaction.draw_mol(p, style='stick')>"
      ]
     },
     "execution_count": 7,
     "metadata": {},
     "output_type": "execute_result"
    }
   ],
   "source": [
    "condensate = stko.MMFF().optimize( condensate )\n",
    "#stk.XyzWriter.write( condensate, 'condensate.xyz' )\n",
    "show_molecule( condensate )"
   ]
  },
  {
   "cell_type": "code",
   "execution_count": 8,
   "id": "dcc0a7fc-0b2b-49ac-87ad-c372ab95b630",
   "metadata": {},
   "outputs": [
    {
     "data": {
      "image/png": "[encoded data removed]",
      "text/plain": [
       "<rdkit.Chem.rdchem.Mol at 0x153b0264970>"
      ]
     },
     "execution_count": 8,
     "metadata": {},
     "output_type": "execute_result"
    }
   ],
   "source": [
    "condensate = condensate.to_rdkit_mol()\n",
    "condensate = Chem.RemoveHs( condensate )\n",
    "AllChem.Compute2DCoords( condensate )\n",
    "condensate"
   ]
  },
  {
   "cell_type": "code",
   "execution_count": 9,
   "id": "495415b3-a2dd-4e45-8d86-2241aa52d672",
   "metadata": {},
   "outputs": [
    {
     "data": {
      "image/png": "[encoded data removed]",
      "text/plain": [
       "<rdkit.Chem.rdchem.Mol at 0x153b0264970>"
      ]
     },
     "execution_count": 9,
     "metadata": {},
     "output_type": "execute_result"
    }
   ],
   "source": [
    "IPythonConsole.drawOptions.useBWAtomPalette()\n",
    "condensate"
   ]
  },
  {
   "cell_type": "code",
   "execution_count": 10,
   "id": "4953fc2d-2fd9-4683-9053-48cee59c2509",
   "metadata": {},
   "outputs": [
    {
     "data": {
      "image/png": "[encoded data removed]",
      "text/plain": [
       "<IPython.core.display.Image object>"
      ]
     },
     "execution_count": 10,
     "metadata": {},
     "output_type": "execute_result"
    }
   ],
   "source": [
    "mol = Chem.RemoveHs( mol.to_rdkit_mol() )\n",
    "mol_ = Chem.RemoveHs( mol_.to_rdkit_mol() )\n",
    "for instance in [ mol, mol_ ]: AllChem.Compute2DCoords( instance )\n",
    "mols = [ mol_, mol, condensate ]\n",
    "Chem.Draw.MolsToGridImage( mols )"
   ]
  }
 ],
 "metadata": {
  "kernelspec": {
   "display_name": "Python 3",
   "language": "python",
   "name": "python3"
  },
  "language_info": {
   "codemirror_mode": {
    "name": "ipython",
    "version": 3
   },
   "file_extension": ".py",
   "mimetype": "text/x-python",
   "name": "python",
   "nbconvert_exporter": "python",
   "pygments_lexer": "ipython3",
   "version": "3.11.2"
  }
 },
 "nbformat": 4,
 "nbformat_minor": 5
}
