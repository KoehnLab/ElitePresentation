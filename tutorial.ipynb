{
 "cells": [
  {
   "cell_type": "markdown",
   "id": "77a09e35-b3bf-4299-8f3b-b2d17e44db97",
   "metadata": {},
   "source": [
    "# Tutorial 1\n",
    "\n",
    "Dies ist ein interaktives \"Jupyter Notebook\". Die Blöcke enthalten Code in der Programmiersprache \"Python\". Wenn ihr in der Leiste oben das Symbol $\\rhd$ drückt, wird der aktuelle Block ausgeführt.\n",
    "Achtet darauf, dass die Blöcke nur in der Reihenfolge von oben nach unten ausgeführt werden sollten."
   ]
  },
  {
   "cell_type": "markdown",
   "id": "1a5b9d55",
   "metadata": {},
   "source": [
    "Zuerst werden nur ein paar Definitionen geladen. Sonst passiert noch nichts.\n",
    "Python-Freaks dürfen auch gerne in die hier referenzierten Dateien schauen."
   ]
  },
  {
   "cell_type": "code",
   "execution_count": null,
   "id": "25eb5e52-96de-4989-be4a-9528fb8c4d18",
   "metadata": {},
   "outputs": [],
   "source": [
    "from backend.interaction import show_molecule_from_file, show_structure_from_file, show_molecule_from_xyz_file"
   ]
  },
  {
   "cell_type": "markdown",
   "id": "2204e2b5-973e-450b-bc71-458316e0269e",
   "metadata": {},
   "source": [
    "Der Befehl in der nachfolgenden Zeile erzeugt ein interaktives Fenster. Nutzt die Knöpfe über der Visualisierung, um euch das Molekül in verschiedenen Darstellungen anzuschauen. Mit der Maus oder dem Trackpad könnt ihr das Molekül drehen, zoomen geht mit dem Rad der Maus bzw. mit der Zweifinger-Zoom-Geste auf dem Trackpad. Einfach ausprobieren."
   ]
  },
  {
   "cell_type": "code",
   "execution_count": null,
   "id": "629bf628-34fd-48cf-a990-23f566d3224a",
   "metadata": {},
   "outputs": [],
   "source": [
    "x = show_molecule_from_file(\"data/salicylic_acid.mol\")"
   ]
  },
  {
   "cell_type": "markdown",
   "id": "c2f4305b-b692-46c0-878f-20fa81e245ac",
   "metadata": {},
   "source": [
    "Das Molekül ist eine organische Säure, die auch im Peeling Anwendung findet. Das mit Essigsäure veresterte Derivat ist ein bekanntes Schmerzmittel (Aspirin)."
   ]
  },
  {
   "cell_type": "markdown",
   "id": "5b1e6f2d-86be-4200-a337-8b7b108d2150",
   "metadata": {},
   "source": [
    "Als etwas abstraktere chemische Strukturformel sieht das Molekül so aus:"
   ]
  },
  {
   "cell_type": "code",
   "execution_count": null,
   "id": "bd9fbef9-dbe4-474b-9b14-0c2c14e5cd4e",
   "metadata": {},
   "outputs": [],
   "source": [
    "x = show_structure_from_file('data/salicylic_acid.mol')"
   ]
  },
  {
   "cell_type": "markdown",
   "id": "6f07ab2c-8653-4973-a0ce-06ebbc8fef04",
   "metadata": {},
   "source": [
    "Hier jetzt ein etwas größeres Molekül. Unter den Proteinen unseres Körpers ist es aber eher ein Zwerg: Insulin."
   ]
  },
  {
   "cell_type": "code",
   "execution_count": null,
   "id": "68e9cb57-be37-4141-bdfd-d5663ef21231",
   "metadata": {},
   "outputs": [],
   "source": [
    "x = show_molecule_from_file(\"data/insulin.pdb\")"
   ]
  },
  {
   "cell_type": "markdown",
   "id": "1fc5541b-ad82-4b77-87d1-45c242503002",
   "metadata": {},
   "source": [
    "Die atomistische Darstellung (\"stick\" oder \"sphere\") ist relativ unübersichtlich. Biochemiker und Molekularbiologen bevorzugen daher die \"cartoon\"-Darstellung, die nur das Rückgrat (\"back bone\") des Proteins zeigt. Man erkennt insbesondere gut die Helix-Bereiche."
   ]
  },
  {
   "cell_type": "markdown",
   "id": "d4430def",
   "metadata": {},
   "source": [
    "Ein weiteres Beispiel ist ein DNA Fragment."
   ]
  },
  {
   "cell_type": "code",
   "execution_count": null,
   "id": "3c910a28",
   "metadata": {},
   "outputs": [],
   "source": [
    "x = show_molecule_from_file(\"data/dna-cgc.pdb\")"
   ]
  },
  {
   "cell_type": "markdown",
   "id": "3a50c4b9",
   "metadata": {},
   "source": [
    "Ein weitverbreiteter Dateityp ist die XYZ Datei.\n",
    "Diese beinhaltet nur das Elementsymbol (zum Beispiel `H`, `C`, oder `O`) und die Position des Atoms.\n",
    "Das bedeutet, dass mögliche Bindungen erst beim Einlesen von einem Algorithmus berechnet werden.\n",
    "Hier ist ein Beispiel für das Laden einer XYZ Datei."
   ]
  },
  {
   "cell_type": "code",
   "execution_count": null,
   "id": "53a96b36",
   "metadata": {},
   "outputs": [],
   "source": [
    "x = show_molecule_from_xyz_file(\"data/structure.xyz\")"
   ]
  },
  {
   "cell_type": "markdown",
   "id": "11abd073",
   "metadata": {},
   "source": [
    "# Tutorial 2\n",
    "\n",
    "Jetzt wollen wir Moleküle \"bauen\". Ein relativ wichtiges Hilfsmittel auch der Chemoinformatik ist die \"**S**implified **M**olecular **I**nput **L**ine **E**ntry **S**pecification\" (SMILES). "
   ]
  },
  {
   "cell_type": "code",
   "execution_count": null,
   "id": "8ff9df5a",
   "metadata": {},
   "outputs": [],
   "source": [
    "# Wieder ein paar Definitionen.\n",
    "from backend.interaction import show_molecule_from_smiles"
   ]
  },
  {
   "cell_type": "markdown",
   "id": "b39fadfc",
   "metadata": {},
   "source": [
    "Hier sind unsere ersten SMILES:"
   ]
  },
  {
   "cell_type": "code",
   "execution_count": null,
   "id": "0ff7f671",
   "metadata": {},
   "outputs": [],
   "source": [
    "smiles = ['CCCCCC','C1CCCCC1','C1COCCC1','c1ccccc1', 'O=C(O)c1ccccc1O']"
   ]
  },
  {
   "cell_type": "markdown",
   "id": "be051fdd",
   "metadata": {},
   "source": [
    "Schauen wir uns mal an, was wir gebaut haben (die SMILES können über das Dropdown-Menü angewählt werden, wer erkennt die Regeln?). Das Programm stellt die Molekülstruktur nach einfachen empirischen Regeln zusammen. Mit dem *Optimize* Button kann noch eine Kraftfeld-Optimierung aufgerufen werden, welche eine noch etwas verbesserte Struktur liefert."
   ]
  },
  {
   "cell_type": "code",
   "execution_count": null,
   "id": "6baab602",
   "metadata": {},
   "outputs": [],
   "source": [
    "show_molecule_from_smiles(smiles, show_structure_formula=True)"
   ]
  },
  {
   "cell_type": "markdown",
   "id": "8f1bfee1",
   "metadata": {},
   "source": [
    "Hier eine kleine Übersicht, wie SMILES aufgebaut sind. Weiter unten könnt Ihr ein weiteres Interaktionsfenster laden und alles mal ausprobieren.\n",
    "\n",
    "## Atome und Ladungen\n",
    "SMILES Strukturformeln werden ohne Wasserstoffatome ($H$) eingegeben, wobei gängige SMILES Software die Anzahl der möglichen Bindungen, die Atome haben können, versteht und leere Bindungsstellen entsprechend mit Wasserstoffatomen aufgefüllt werden.\n",
    "Durch das Hinzufügen von eckigen Klammern können Wasserstoffatome auch explizit angegeben werden.\n",
    "So kann Wasser in verschiedenen Schreibweisen dargestellt werden: `O`, `[OH2]` oder `[H]O[H]` (ausprobieren!).\n",
    "Atome welche nicht im Teilsatz der wichtigen Atome für die organische Chemie sind ($B$, $C$, $N$, $O$, $P$, $S$, $F$, $Cl$, $Br$ und $I$) können ebenfalls nur durch die Verwendung von eckigen Klammern zu einem SMILES hinzugefügt werden.\n",
    "Zum Beispiel: `[Au]` (Gold), `[Ti]` (Titan), oder `[Co]` (Kobalt).\n",
    "Zusätzlich können mit Hilfe der eckigen Klammern Ladungen auf Atomen explizit angegeben werden.\n",
    "Die Ladungszahl kann dabei durch wiederholte Eingabe des Ladungssymbols (`+` oder `-`) oder eine nachfolgende Zahl eingegeben werden.\n",
    "Beispiele für Atome und Ladungen:\n",
    "- `[Co+++]` oder `[Co+3]` für $Co^{3+}$\n",
    "- `CCC(=O)[O-]` für eine ionisierte Form der Propionsäure\n",
    "\n",
    "\n",
    "## Bindungen\n",
    "Standardmäßig werden zwischen den eingegebenen Atomtypen einfache Bindungen angenommen.\n",
    "Wie in der folgenden Liste zu sehen ist, können diese aber auch explizit definiert werden.\n",
    "Hier die Liste der möglichen Bindungstypen:\n",
    "- \\- Einfachbindung\n",
    "- = Doppelbindung\n",
    "- \\# Dreifachbindung\n",
    "\n",
    "Beispiele für diese Bindungstypen wären:\n",
    "- `CC` oder `C-C` für Ethan ($CH_3CH_3$)\n",
    "- `C=C` für Ethen ($CH_2CH_2$)\n",
    "- `N#N` für molekularen Stickstoff ($N_2$)\n",
    "\n",
    "Zusätzlich können Strukturen durch hinzufügen eines Punktes (.) unterbrochen werden. Ein einfaches Beispiel wäre `CCCCC.CCCCC` für zwei unabhängige Kohlenstoffketten.\n",
    "\n",
    "## Verweigungen\n",
    "Eine Abzweigung einer Kette kann angegeben werden, indem die Atome des Zweiges in (runde) Klammern gesetzt werden.\n",
    "Der Zweig wird an das Atom vor der Klammer angefügt.\n",
    "Spezielle Bindungstypen können auch als erstes Symbol in der Klammer gesetzt werden.\n",
    "Beispiele für Verzweigungen wären:\n",
    "- `CC(O)C` für Isopropanol\n",
    "- `CC(=O)C` für Aceton\n",
    "\n",
    "## Ringe\n",
    "Durch das Hinzufügen von Zahlen kann der Start und das Ende eines Ringes beschrieben werden.\n",
    "Dabei werden die Zahlen hinter das betroffene Atom angefügt.\n",
    "Beispiele für Ringstrukturen wären:\n",
    "- `C1CCCCC1` für Cyclohexan\n",
    "- `C1OC1CC` für 1,2-Epoxybutan\n",
    "\n",
    "Eine aromatische Bindung, welche immer mindestens einen Ring aufweist, kann durch Verwendung von kleinen Buchstaben codiert werden.\n",
    "Beispiele für aromatische Ringstrukturen:\n",
    "- `c1ccccc1` für Benzol\n",
    "- `c1cc2ccccc2cc1` für Naphthalin\n",
    "\n",
    "\n",
    "\n"
   ]
  },
  {
   "cell_type": "markdown",
   "id": "fcfd93af",
   "metadata": {},
   "source": [
    "Nun können wir mit selbst erstellten SMILES experimentieren.\n",
    "Falls eine Fehlermeldung angezeigt wird, ist der SMILES ungültig und ihr habt etwas falsch gemacht.\n",
    "Versucht für jeden zuvor erwähnten Typen ein SMILES zu generieren."
   ]
  },
  {
   "cell_type": "code",
   "execution_count": null,
   "id": "8255fa35",
   "metadata": {},
   "outputs": [],
   "source": [
    "show_molecule_from_smiles(smiles = \"CCCC\", show_structure_formula=True) # Die SMILES können unten interaktiv getestet werden"
   ]
  },
  {
   "cell_type": "markdown",
   "id": "1b0811d5",
   "metadata": {},
   "source": [
    "Auch sehr komplexe Moleküle können so definiert werden, probiert doch mal das hier:\n",
    "\n",
    "`OCCc1c(C)[n+](cs1)Cc2cnc(C)nc2N`\n",
    "\n",
    "Weitere Beispiele und die vollständigen Regeln für SMILES findet ihr im Internet."
   ]
  },
  {
   "cell_type": "markdown",
   "id": "046469cf",
   "metadata": {},
   "source": [
    "# Tutorial 3\n",
    "\n",
    "Mit Molekulardynamik-Simulationen können wir auch untersuchen, was Moleküle bei Raumtemperatur so machen."
   ]
  },
  {
   "cell_type": "code",
   "execution_count": null,
   "id": "a60133ad",
   "metadata": {},
   "outputs": [],
   "source": [
    "from backend.ml_sim import MLSimulation"
   ]
  },
  {
   "cell_type": "markdown",
   "id": "90d6ea36",
   "metadata": {},
   "source": [
    "Normalerweise lassen wir nun die Simulation laufen, was aber auf manchen Geträten recht viel Zeit in Anspruch nehmen kann. Daher ist die Berechung optional: Ihr müsst im folgenden Codeblock den Parameter `skip_simulation` auf `False` setzten, falls ihr die Simulation selbst durchführen möchtet."
   ]
  },
  {
   "cell_type": "code",
   "execution_count": null,
   "id": "c4940c1b",
   "metadata": {},
   "outputs": [],
   "source": [
    "sim = MLSimulation()\n",
    "\n",
    "skip_simulation = True\n",
    "if not skip_simulation:\n",
    "    sim.run_simulation()"
   ]
  },
  {
   "cell_type": "markdown",
   "id": "c5a2f0fd",
   "metadata": {},
   "source": [
    "Nun können wir uns das Ergebnis der Simulation anschauen."
   ]
  },
  {
   "cell_type": "code",
   "execution_count": null,
   "id": "7801f431",
   "metadata": {},
   "outputs": [],
   "source": [
    "sim.show_result()"
   ]
  }
 ],
 "metadata": {
  "kernelspec": {
   "display_name": "Python 3 (ipykernel)",
   "language": "python",
   "name": "python3"
  },
  "language_info": {
   "codemirror_mode": {
    "name": "ipython",
    "version": 3
   },
   "file_extension": ".py",
   "mimetype": "text/x-python",
   "name": "python",
   "nbconvert_exporter": "python",
   "pygments_lexer": "ipython3",
   "version": "3.10.1"
  }
 },
 "nbformat": 4,
 "nbformat_minor": 5
}
